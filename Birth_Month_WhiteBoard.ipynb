{
 "cells": [
  {
   "cell_type": "markdown",
   "id": "00f55486",
   "metadata": {},
   "source": [
    "#Write a function that prompts the user for their birth month and returns their birthstone.\n",
    "#If they input an invalid month, tell them to try again\n",
    "\n",
    "stones={\n",
    "    1:\"Garnet\",\n",
    "    2:\"Amethyst\",\n",
    "    3:\"Aquamarine\",\n",
    "    4:\"Diamond\",\n",
    "    5:\"Emerald\",\n",
    "    6:\"Pearl\",\n",
    "    7:\"Ruby\",\n",
    "    8:\"Peridot\",\n",
    "    9:\"Sapphire\",\n",
    "    10:\"Opal\",\n",
    "    11:\"Topaz\",\n",
    "    12:\"Turquoise\"\n",
    "}"
   ]
  },
  {
   "cell_type": "code",
   "execution_count": 3,
   "id": "3625f145",
   "metadata": {},
   "outputs": [],
   "source": [
    "stones={ 1:\"Garnet\", 2:\"Amethyst\", 3:\"Aquamarine\", 4:\"Diamond\", 5:\"Emerald\", 6:\"Pearl\", 7:\"Ruby\", 8:\"Peridot\", 9:\"Sapphire\", 10:\"Opal\", 11:\"Topaz\", 12:\"Turquoise\" }\n",
    "def get_stone():\n",
    "        ask  = int(input('What is your birth month? (1-12) '))\n",
    "        for month, stone in stones.items():\n",
    "            if month in stones:\n",
    "                print(f'the {stone} is the birthstone of {month}')"
   ]
  },
  {
   "cell_type": "code",
   "execution_count": 6,
   "id": "b63beee3",
   "metadata": {},
   "outputs": [
    {
     "name": "stdout",
     "output_type": "stream",
     "text": [
      "Please enter the number of your birth month: 10\n"
     ]
    },
    {
     "data": {
      "text/plain": [
       "'Opal'"
      ]
     },
     "execution_count": 6,
     "metadata": {},
     "output_type": "execute_result"
    }
   ],
   "source": [
    "def birthstone():\n",
    "    response = int(input(\"Please enter the number of your birth month: \"))        \n",
    "    for  month in stones.keys():\n",
    "        if response == month:\n",
    "            return stones[response]\n",
    "    else:\n",
    "        print(\"That is not a valid response\")\n",
    "birthstone()"
   ]
  }
 ],
 "metadata": {
  "kernelspec": {
   "display_name": "Python 3 (ipykernel)",
   "language": "python",
   "name": "python3"
  },
  "language_info": {
   "codemirror_mode": {
    "name": "ipython",
    "version": 3
   },
   "file_extension": ".py",
   "mimetype": "text/x-python",
   "name": "python",
   "nbconvert_exporter": "python",
   "pygments_lexer": "ipython3",
   "version": "3.9.7"
  }
 },
 "nbformat": 4,
 "nbformat_minor": 5
}
